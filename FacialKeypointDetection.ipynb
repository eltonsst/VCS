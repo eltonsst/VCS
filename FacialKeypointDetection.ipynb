{
  "nbformat": 4,
  "nbformat_minor": 0,
  "metadata": {
    "colab": {
      "name": "FacialKeypointDetection.ipynb",
      "provenance": []
    },
    "kernelspec": {
      "name": "python3",
      "display_name": "Python 3"
    },
    "language_info": {
      "name": "python"
    },
    "accelerator": "GPU"
  },
  "cells": [
    {
      "cell_type": "markdown",
      "source": [
        "Mounting google drive:\n"
      ],
      "metadata": {
        "id": "x35jdP54WgRD"
      }
    },
    {
      "cell_type": "code",
      "execution_count": null,
      "metadata": {
        "id": "K17VAZvjSLVO",
        "colab": {
          "base_uri": "https://localhost:8080/"
        },
        "outputId": "b305de35-daff-47c9-9dd5-45aa308ad961"
      },
      "outputs": [
        {
          "output_type": "stream",
          "name": "stdout",
          "text": [
            "Drive already mounted at /content/gdrive/; to attempt to forcibly remount, call drive.mount(\"/content/gdrive/\", force_remount=True).\n"
          ]
        }
      ],
      "source": [
        "from google.colab import drive\n",
        "drive.mount('/content/gdrive/')"
      ]
    },
    {
      "cell_type": "markdown",
      "source": [
        "import libraries:"
      ],
      "metadata": {
        "id": "H3WxRgLjWpp2"
      }
    },
    {
      "cell_type": "code",
      "source": [
        "import pandas as pd\n",
        "import matplotlib.pyplot as plt\n",
        "import numpy as np\n",
        "import tensorflow as tf\n",
        "from tensorflow.keras import layers\n",
        "import os"
      ],
      "metadata": {
        "id": "Ku7EBWanWf4R"
      },
      "execution_count": null,
      "outputs": []
    },
    {
      "cell_type": "markdown",
      "source": [
        "check if gpu is enabled"
      ],
      "metadata": {
        "id": "Z0RZiBNxXk15"
      }
    },
    {
      "cell_type": "code",
      "source": [
        "# Confirms enabled GPU\n",
        "%tensorflow_version 2.x\n",
        "device_name = tf.test.gpu_device_name()\n",
        "if device_name != '/device:GPU:0':\n",
        "  raise SystemError('GPU device not found')\n",
        "print('Found GPU at: {}'.format(device_name))"
      ],
      "metadata": {
        "colab": {
          "base_uri": "https://localhost:8080/"
        },
        "id": "aVXFhZILW86i",
        "outputId": "c3cfdc3d-8a4d-4731-a8bd-13715c2ee28b"
      },
      "execution_count": null,
      "outputs": [
        {
          "output_type": "stream",
          "name": "stdout",
          "text": [
            "Found GPU at: /device:GPU:0\n"
          ]
        }
      ]
    },
    {
      "cell_type": "markdown",
      "source": [
        "set seed to get consistent results over multiple runs"
      ],
      "metadata": {
        "id": "r4xqrhCLX4_x"
      }
    },
    {
      "cell_type": "code",
      "source": [
        "# To get consistent results\n",
        "np.random.seed(69) "
      ],
      "metadata": {
        "id": "0QRz-l7sXo6-"
      },
      "execution_count": null,
      "outputs": []
    },
    {
      "cell_type": "markdown",
      "source": [
        "utility functions:"
      ],
      "metadata": {
        "id": "YcpuDaESYeSM"
      }
    },
    {
      "cell_type": "code",
      "source": [
        "def get_training_df():\n",
        "    training_df = pd.read_csv(r'/content/gdrive/My Drive/vcs/training.csv')\n",
        "    return training_df\n",
        "\n",
        "\n",
        "def get_test_df():\n",
        "    test_df = pd.read_csv(r'/content/gdrive/My Drive/vcs/test.csv')\n",
        "    return test_df\n",
        "\n",
        "def drop_na_values(df):\n",
        "    dropped_df = df.dropna(axis=0, how=\"any\", thresh=None, subset=None, inplace=False)\n",
        "    return dropped_df\n",
        "\n",
        "def get_images(df):\n",
        "    images = df['Image']\n",
        "    images_list = []\n",
        "    for img in images:\n",
        "        images_list.append(np.array([int(x) for x in img.split(' ')]).reshape((96, 96)))\n",
        "    return np.array(images_list) / 255.0   # Normalize pixel values between (0, 1)\n",
        "\n",
        "# Delete image row to turn dataset to an array\n",
        "def drop_pixel_values(df):\n",
        "    new_df = df.drop(['Image'], axis=1)\n",
        "    return new_df\n",
        "\n",
        "def drop_x_values(df):\n",
        "    lst = []\n",
        "    for i in df:\n",
        "        if 'x' in i:\n",
        "            lst.append(i)\n",
        "    return df.drop(columns=lst, axis=1)\n",
        "  \n",
        "def image_mirroring(df):\n",
        "    all_images = get_images(df)\n",
        "    return np.array([np.fliplr(image) for image in all_images])\n",
        "\n",
        "def x_feature_mirroring(df, width=96):\n",
        "    x_features = {}\n",
        "    for column in df:\n",
        "        if 'x' in column:\n",
        "            temp = np.array(df[column])\n",
        "            temp = width - temp\n",
        "            x_features[column] = temp\n",
        "    return x_features\n",
        "\n",
        "def data_augmentation(df):\n",
        "    augmented_images = image_mirroring(df)\n",
        "    augmented_xes = x_feature_mirroring(df, width=96)\n",
        "\n",
        "    # Drops x values to feed new augmented x values to dataframe\n",
        "    df = drop_x_values(df)\n",
        "    del df['Image']\n",
        "    for name, j in zip(augmented_xes, range(0, 30, 2)):\n",
        "        df.insert(loc=j, column=name, value=augmented_xes[name])\n",
        "\n",
        "    augmented_df = df\n",
        "\n",
        "    return augmented_df, augmented_images\n",
        "\n",
        "# Shows image and keypoints at given index\n",
        "def show_image(x_dataset, y_dataset, index): \n",
        "    img = np.array(x_dataset[index]).reshape((96, 96))\n",
        "    keypoints = y_dataset[index]\n",
        "    x_keypoints = keypoints[::2]\n",
        "    y_keypoints = keypoints[1::2]\n",
        "    plt.imshow(img, cmap='gray')\n",
        "    plt.scatter(x_keypoints, y_keypoints)\n",
        "    plt.show()\n"
      ],
      "metadata": {
        "id": "rpIrUKPVYGvE"
      },
      "execution_count": null,
      "outputs": []
    },
    {
      "cell_type": "markdown",
      "source": [
        "  Facial keypoint detection"
      ],
      "metadata": {
        "id": "m7n7M6LNYrKw"
      }
    },
    {
      "cell_type": "code",
      "source": [
        "# Get training dataframe\n",
        "training_dataframe = get_training_df()\n",
        "\n",
        "# Drop rows which have NaN values\n",
        "training_dataframe_dropped = drop_na_values(training_dataframe)\n",
        "\n",
        "# Extract images from dataframe\n",
        "training_images = get_images(training_dataframe_dropped)\n",
        "\n",
        "# Extract keypoints from dataframe\n",
        "training_dataframe_keypoints = drop_pixel_values(training_dataframe_dropped)\n",
        "training_array = training_dataframe_keypoints.to_numpy(dtype='float32', copy=False)\n",
        "\n",
        "# Augment images and keypoints\n",
        "augmented_training_dataframe, augmented_training_images = data_augmentation(training_dataframe_dropped)\n",
        "augmented_training_array = augmented_training_dataframe.to_numpy(dtype='float32', copy=False)\n",
        "\n",
        "# Concatenate real and augmented values\n",
        "training_Y = np.concatenate((training_array, augmented_training_array), axis=0)\n",
        "training_X = np.concatenate((training_images, augmented_training_images), axis=0)\n",
        "\n",
        "# Concatenate X and y values\n",
        "training_dataset = np.concatenate((training_X.reshape((4280, 96 * 96)), training_Y), axis=1)\n",
        "\n",
        "# Shuffle the dataset for better optimization\n",
        "np.random.shuffle(training_dataset) "
      ],
      "metadata": {
        "id": "dbEpXDWNYh1U"
      },
      "execution_count": null,
      "outputs": []
    },
    {
      "cell_type": "code",
      "source": [
        "X = training_dataset[:, :9216].reshape(4280, 96, 96, 1)\n",
        "y = training_dataset[:, 9216:]"
      ],
      "metadata": {
        "id": "36Mvht7FgLsv"
      },
      "execution_count": null,
      "outputs": []
    },
    {
      "cell_type": "code",
      "source": [
        "show_image(X, y, 69)"
      ],
      "metadata": {
        "colab": {
          "base_uri": "https://localhost:8080/",
          "height": 268
        },
        "id": "EJCMeLrLgMoW",
        "outputId": "d931ff1e-4c56-4ece-b176-88a1b8773f1a"
      },
      "execution_count": null,
      "outputs": [
        {
          "output_type": "display_data",
          "data": {
            "image/png": "[encoded data removed]",
            "text/plain": [
              "<Figure size 432x288 with 1 Axes>"
            ]
          },
          "metadata": {
            "needs_background": "light"
          }
        }
      ]
    },
    {
      "cell_type": "markdown",
      "source": [
        "CNN model"
      ],
      "metadata": {
        "id": "jH0AE9wLkcNR"
      }
    },
    {
      "cell_type": "code",
      "source": [
        "def create_model():\n",
        "    model = tf.keras.models.Sequential([\n",
        "        layers.Conv2D(64, (3, 3), padding='same', input_shape=(96, 96, 1)),\n",
        "        layers.LeakyReLU(),\n",
        "        layers.MaxPool2D((2, 2)),\n",
        "        layers.Conv2D(128, (3, 3), padding='same'),\n",
        "        layers.LeakyReLU(),\n",
        "        layers.MaxPool2D((2, 2)),\n",
        "        layers.Conv2D(128, (3, 3), padding='same'),\n",
        "        layers.LeakyReLU(),\n",
        "        layers.Flatten(),\n",
        "        layers.BatchNormalization(),\n",
        "        layers.Dense(128),\n",
        "        layers.ReLU(),\n",
        "        layers.Dense(96),\n",
        "        layers.ReLU(),\n",
        "        layers.Dense(64),\n",
        "        layers.ReLU(),\n",
        "        layers.Dense(30)\n",
        "    ])\n",
        "    \n",
        "    return model"
      ],
      "metadata": {
        "id": "EKgP73iCkaz5"
      },
      "execution_count": null,
      "outputs": []
    },
    {
      "cell_type": "code",
      "source": [
        "model = create_model()\n",
        "\n",
        "model.compile(optimizer='adam',\n",
        "              loss='huber_loss',\n",
        "              metrics=['accuracy'])\n",
        "\n",
        "# Creates a callback to save weights\n",
        "checkpoint_path = \"checkpoint01/cp.ckpt\"\n",
        "checkpoint_dir = os.path.dirname(checkpoint_path)\n",
        "cp_callback = tf.keras.callbacks.ModelCheckpoint(filepath=checkpoint_path,\n",
        "                                                 save_weights_only=True,\n",
        "                                                 verbose=1)\n",
        "\n",
        "history = model.fit(X, y, batch_size=32, epochs=100, callbacks=[cp_callback])"
      ],
      "metadata": {
        "colab": {
          "base_uri": "https://localhost:8080/"
        },
        "id": "dRn7nvBrkpYP",
        "outputId": "513301c6-58ec-4a5b-fb7a-2e81ad198a2c"
      },
      "execution_count": null,
      "outputs": [
        {
          "output_type": "stream",
          "name": "stdout",
          "text": [
            "Epoch 1/100\n",
            "134/134 [==============================] - ETA: 0s - loss: 13.7954 - accuracy: 0.4621\n",
            "Epoch 00001: saving model to checkpoint01/cp.ckpt\n",
            "134/134 [==============================] - 8s 52ms/step - loss: 13.7954 - accuracy: 0.4621\n",
            "Epoch 2/100\n",
            "133/134 [============================>.] - ETA: 0s - loss: 5.9223 - accuracy: 0.6436\n",
            "Epoch 00002: saving model to checkpoint01/cp.ckpt\n",
            "134/134 [==============================] - 7s 50ms/step - loss: 5.9161 - accuracy: 0.6428\n",
            "Epoch 3/100\n",
            "133/134 [============================>.] - ETA: 0s - loss: 4.4418 - accuracy: 0.6396\n",
            "Epoch 00003: saving model to checkpoint01/cp.ckpt\n",
            "134/134 [==============================] - 7s 50ms/step - loss: 4.4421 - accuracy: 0.6404\n",
            "Epoch 4/100\n",
            "133/134 [============================>.] - ETA: 0s - loss: 3.7067 - accuracy: 0.6452\n",
            "Epoch 00004: saving model to checkpoint01/cp.ckpt\n",
            "134/134 [==============================] - 7s 50ms/step - loss: 3.7072 - accuracy: 0.6456\n",
            "Epoch 5/100\n",
            "133/134 [============================>.] - ETA: 0s - loss: 3.1910 - accuracy: 0.6767\n",
            "Epoch 00005: saving model to checkpoint01/cp.ckpt\n",
            "134/134 [==============================] - 7s 50ms/step - loss: 3.1894 - accuracy: 0.6771\n",
            "Epoch 6/100\n",
            "134/134 [==============================] - ETA: 0s - loss: 2.6968 - accuracy: 0.6890\n",
            "Epoch 00006: saving model to checkpoint01/cp.ckpt\n",
            "134/134 [==============================] - 7s 50ms/step - loss: 2.6968 - accuracy: 0.6890\n",
            "Epoch 7/100\n",
            "134/134 [==============================] - ETA: 0s - loss: 2.4247 - accuracy: 0.6895\n",
            "Epoch 00007: saving model to checkpoint01/cp.ckpt\n",
            "134/134 [==============================] - 7s 50ms/step - loss: 2.4247 - accuracy: 0.6895\n",
            "Epoch 8/100\n",
            "133/134 [============================>.] - ETA: 0s - loss: 2.0724 - accuracy: 0.7037\n",
            "Epoch 00008: saving model to checkpoint01/cp.ckpt\n",
            "134/134 [==============================] - 7s 50ms/step - loss: 2.0680 - accuracy: 0.7042\n",
            "Epoch 9/100\n",
            "133/134 [============================>.] - ETA: 0s - loss: 1.8890 - accuracy: 0.7164\n",
            "Epoch 00009: saving model to checkpoint01/cp.ckpt\n",
            "134/134 [==============================] - 7s 50ms/step - loss: 1.8886 - accuracy: 0.7157\n",
            "Epoch 10/100\n",
            "133/134 [============================>.] - ETA: 0s - loss: 1.7284 - accuracy: 0.7296\n",
            "Epoch 00010: saving model to checkpoint01/cp.ckpt\n",
            "134/134 [==============================] - 7s 51ms/step - loss: 1.7274 - accuracy: 0.7294\n",
            "Epoch 11/100\n",
            "133/134 [============================>.] - ETA: 0s - loss: 1.4877 - accuracy: 0.7453\n",
            "Epoch 00011: saving model to checkpoint01/cp.ckpt\n",
            "134/134 [==============================] - 7s 50ms/step - loss: 1.4873 - accuracy: 0.7446\n",
            "Epoch 12/100\n",
            "133/134 [============================>.] - ETA: 0s - loss: 1.3169 - accuracy: 0.7606\n",
            "Epoch 00012: saving model to checkpoint01/cp.ckpt\n",
            "134/134 [==============================] - 7s 50ms/step - loss: 1.3176 - accuracy: 0.7603\n",
            "Epoch 13/100\n",
            "133/134 [============================>.] - ETA: 0s - loss: 1.2089 - accuracy: 0.7681\n",
            "Epoch 00013: saving model to checkpoint01/cp.ckpt\n",
            "134/134 [==============================] - 7s 50ms/step - loss: 1.2141 - accuracy: 0.7687\n",
            "Epoch 14/100\n",
            "133/134 [============================>.] - ETA: 0s - loss: 1.2217 - accuracy: 0.7662\n",
            "Epoch 00014: saving model to checkpoint01/cp.ckpt\n",
            "134/134 [==============================] - 7s 50ms/step - loss: 1.2204 - accuracy: 0.7661\n",
            "Epoch 15/100\n",
            "134/134 [==============================] - ETA: 0s - loss: 1.1973 - accuracy: 0.7652\n",
            "Epoch 00015: saving model to checkpoint01/cp.ckpt\n",
            "134/134 [==============================] - 7s 50ms/step - loss: 1.1973 - accuracy: 0.7652\n",
            "Epoch 16/100\n",
            "133/134 [============================>.] - ETA: 0s - loss: 1.0911 - accuracy: 0.7796\n",
            "Epoch 00016: saving model to checkpoint01/cp.ckpt\n",
            "134/134 [==============================] - 7s 50ms/step - loss: 1.0942 - accuracy: 0.7787\n",
            "Epoch 17/100\n",
            "133/134 [============================>.] - ETA: 0s - loss: 1.0762 - accuracy: 0.7867\n",
            "Epoch 00017: saving model to checkpoint01/cp.ckpt\n",
            "134/134 [==============================] - 7s 50ms/step - loss: 1.0748 - accuracy: 0.7869\n",
            "Epoch 18/100\n",
            "134/134 [==============================] - ETA: 0s - loss: 1.1088 - accuracy: 0.7741\n",
            "Epoch 00018: saving model to checkpoint01/cp.ckpt\n",
            "134/134 [==============================] - 7s 50ms/step - loss: 1.1088 - accuracy: 0.7741\n",
            "Epoch 19/100\n",
            "134/134 [==============================] - ETA: 0s - loss: 0.9489 - accuracy: 0.7867\n",
            "Epoch 00019: saving model to checkpoint01/cp.ckpt\n",
            "134/134 [==============================] - 7s 50ms/step - loss: 0.9489 - accuracy: 0.7867\n",
            "Epoch 20/100\n",
            "133/134 [============================>.] - ETA: 0s - loss: 1.1036 - accuracy: 0.7899\n",
            "Epoch 00020: saving model to checkpoint01/cp.ckpt\n",
            "134/134 [==============================] - 7s 50ms/step - loss: 1.1058 - accuracy: 0.7895\n",
            "Epoch 21/100\n",
            "133/134 [============================>.] - ETA: 0s - loss: 1.0545 - accuracy: 0.7911\n",
            "Epoch 00021: saving model to checkpoint01/cp.ckpt\n",
            "134/134 [==============================] - 7s 50ms/step - loss: 1.0558 - accuracy: 0.7893\n",
            "Epoch 22/100\n",
            "134/134 [==============================] - ETA: 0s - loss: 0.9779 - accuracy: 0.7988\n",
            "Epoch 00022: saving model to checkpoint01/cp.ckpt\n",
            "134/134 [==============================] - 7s 50ms/step - loss: 0.9779 - accuracy: 0.7988\n",
            "Epoch 23/100\n",
            "133/134 [============================>.] - ETA: 0s - loss: 0.9597 - accuracy: 0.7918\n",
            "Epoch 00023: saving model to checkpoint01/cp.ckpt\n",
            "134/134 [==============================] - 7s 50ms/step - loss: 0.9598 - accuracy: 0.7916\n",
            "Epoch 24/100\n",
            "133/134 [============================>.] - ETA: 0s - loss: 0.9554 - accuracy: 0.7956\n",
            "Epoch 00024: saving model to checkpoint01/cp.ckpt\n",
            "134/134 [==============================] - 7s 51ms/step - loss: 0.9545 - accuracy: 0.7956\n",
            "Epoch 25/100\n",
            "133/134 [============================>.] - ETA: 0s - loss: 0.8843 - accuracy: 0.8160\n",
            "Epoch 00025: saving model to checkpoint01/cp.ckpt\n",
            "134/134 [==============================] - 7s 51ms/step - loss: 0.8841 - accuracy: 0.8166\n",
            "Epoch 26/100\n",
            "133/134 [============================>.] - ETA: 0s - loss: 0.8891 - accuracy: 0.8085\n",
            "Epoch 00026: saving model to checkpoint01/cp.ckpt\n",
            "134/134 [==============================] - 7s 50ms/step - loss: 0.8893 - accuracy: 0.8084\n",
            "Epoch 27/100\n",
            "133/134 [============================>.] - ETA: 0s - loss: 0.9020 - accuracy: 0.8167\n",
            "Epoch 00027: saving model to checkpoint01/cp.ckpt\n",
            "134/134 [==============================] - 7s 50ms/step - loss: 0.9009 - accuracy: 0.8161\n",
            "Epoch 28/100\n",
            "133/134 [============================>.] - ETA: 0s - loss: 0.9770 - accuracy: 0.8010\n",
            "Epoch 00028: saving model to checkpoint01/cp.ckpt\n",
            "134/134 [==============================] - 7s 51ms/step - loss: 0.9761 - accuracy: 0.8016\n",
            "Epoch 29/100\n",
            "133/134 [============================>.] - ETA: 0s - loss: 0.8618 - accuracy: 0.8170\n",
            "Epoch 00029: saving model to checkpoint01/cp.ckpt\n",
            "134/134 [==============================] - 7s 51ms/step - loss: 0.8602 - accuracy: 0.8175\n",
            "Epoch 30/100\n",
            "133/134 [============================>.] - ETA: 0s - loss: 0.7885 - accuracy: 0.8221\n",
            "Epoch 00030: saving model to checkpoint01/cp.ckpt\n",
            "134/134 [==============================] - 7s 50ms/step - loss: 0.7877 - accuracy: 0.8215\n",
            "Epoch 31/100\n",
            "134/134 [==============================] - ETA: 0s - loss: 0.7669 - accuracy: 0.8180\n",
            "Epoch 00031: saving model to checkpoint01/cp.ckpt\n",
            "134/134 [==============================] - 7s 51ms/step - loss: 0.7669 - accuracy: 0.8180\n",
            "Epoch 32/100\n",
            "133/134 [============================>.] - ETA: 0s - loss: 0.8259 - accuracy: 0.8113\n",
            "Epoch 00032: saving model to checkpoint01/cp.ckpt\n",
            "134/134 [==============================] - 7s 50ms/step - loss: 0.8259 - accuracy: 0.8117\n",
            "Epoch 33/100\n",
            "133/134 [============================>.] - ETA: 0s - loss: 0.9509 - accuracy: 0.8066\n",
            "Epoch 00033: saving model to checkpoint01/cp.ckpt\n",
            "134/134 [==============================] - 7s 50ms/step - loss: 0.9502 - accuracy: 0.8068\n",
            "Epoch 34/100\n",
            "133/134 [============================>.] - ETA: 0s - loss: 0.8162 - accuracy: 0.8207\n",
            "Epoch 00034: saving model to checkpoint01/cp.ckpt\n",
            "134/134 [==============================] - 7s 51ms/step - loss: 0.8157 - accuracy: 0.8210\n",
            "Epoch 35/100\n",
            "133/134 [============================>.] - ETA: 0s - loss: 0.9035 - accuracy: 0.8195\n",
            "Epoch 00035: saving model to checkpoint01/cp.ckpt\n",
            "134/134 [==============================] - 7s 50ms/step - loss: 0.9046 - accuracy: 0.8192\n",
            "Epoch 36/100\n",
            "133/134 [============================>.] - ETA: 0s - loss: 0.8453 - accuracy: 0.8132\n",
            "Epoch 00036: saving model to checkpoint01/cp.ckpt\n",
            "134/134 [==============================] - 7s 50ms/step - loss: 0.8470 - accuracy: 0.8136\n",
            "Epoch 37/100\n",
            "133/134 [============================>.] - ETA: 0s - loss: 0.8151 - accuracy: 0.8257\n",
            "Epoch 00037: saving model to checkpoint01/cp.ckpt\n",
            "134/134 [==============================] - 7s 51ms/step - loss: 0.8137 - accuracy: 0.8259\n",
            "Epoch 38/100\n",
            "134/134 [==============================] - ETA: 0s - loss: 0.7553 - accuracy: 0.8292\n",
            "Epoch 00038: saving model to checkpoint01/cp.ckpt\n",
            "134/134 [==============================] - 7s 51ms/step - loss: 0.7553 - accuracy: 0.8292\n",
            "Epoch 39/100\n",
            "134/134 [==============================] - ETA: 0s - loss: 0.7268 - accuracy: 0.8187\n",
            "Epoch 00039: saving model to checkpoint01/cp.ckpt\n",
            "134/134 [==============================] - 7s 51ms/step - loss: 0.7268 - accuracy: 0.8187\n",
            "Epoch 40/100\n",
            "133/134 [============================>.] - ETA: 0s - loss: 0.7236 - accuracy: 0.8289\n",
            "Epoch 00040: saving model to checkpoint01/cp.ckpt\n",
            "134/134 [==============================] - 7s 50ms/step - loss: 0.7225 - accuracy: 0.8285\n",
            "Epoch 41/100\n",
            "134/134 [==============================] - ETA: 0s - loss: 0.6845 - accuracy: 0.8299\n",
            "Epoch 00041: saving model to checkpoint01/cp.ckpt\n",
            "134/134 [==============================] - 7s 50ms/step - loss: 0.6845 - accuracy: 0.8299\n",
            "Epoch 42/100\n",
            "134/134 [==============================] - ETA: 0s - loss: 0.7852 - accuracy: 0.8299\n",
            "Epoch 00042: saving model to checkpoint01/cp.ckpt\n",
            "134/134 [==============================] - 7s 50ms/step - loss: 0.7852 - accuracy: 0.8299\n",
            "Epoch 43/100\n",
            "133/134 [============================>.] - ETA: 0s - loss: 0.8458 - accuracy: 0.8247\n",
            "Epoch 00043: saving model to checkpoint01/cp.ckpt\n",
            "134/134 [==============================] - 7s 51ms/step - loss: 0.8470 - accuracy: 0.8241\n",
            "Epoch 44/100\n",
            "134/134 [==============================] - ETA: 0s - loss: 0.8662 - accuracy: 0.8168\n",
            "Epoch 00044: saving model to checkpoint01/cp.ckpt\n",
            "134/134 [==============================] - 7s 51ms/step - loss: 0.8662 - accuracy: 0.8168\n",
            "Epoch 45/100\n",
            "133/134 [============================>.] - ETA: 0s - loss: 0.7810 - accuracy: 0.8261\n",
            "Epoch 00045: saving model to checkpoint01/cp.ckpt\n",
            "134/134 [==============================] - 7s 50ms/step - loss: 0.7807 - accuracy: 0.8257\n",
            "Epoch 46/100\n",
            "134/134 [==============================] - ETA: 0s - loss: 0.6744 - accuracy: 0.8535\n",
            "Epoch 00046: saving model to checkpoint01/cp.ckpt\n",
            "134/134 [==============================] - 7s 50ms/step - loss: 0.6744 - accuracy: 0.8535\n",
            "Epoch 47/100\n",
            "133/134 [============================>.] - ETA: 0s - loss: 0.6755 - accuracy: 0.8320\n",
            "Epoch 00047: saving model to checkpoint01/cp.ckpt\n",
            "134/134 [==============================] - 7s 50ms/step - loss: 0.6757 - accuracy: 0.8322\n",
            "Epoch 48/100\n",
            "134/134 [==============================] - ETA: 0s - loss: 0.7276 - accuracy: 0.8481\n",
            "Epoch 00048: saving model to checkpoint01/cp.ckpt\n",
            "134/134 [==============================] - 7s 50ms/step - loss: 0.7276 - accuracy: 0.8481\n",
            "Epoch 49/100\n",
            "134/134 [==============================] - ETA: 0s - loss: 0.8063 - accuracy: 0.8327\n",
            "Epoch 00049: saving model to checkpoint01/cp.ckpt\n",
            "134/134 [==============================] - 7s 51ms/step - loss: 0.8063 - accuracy: 0.8327\n",
            "Epoch 50/100\n",
            "133/134 [============================>.] - ETA: 0s - loss: 0.8532 - accuracy: 0.8252\n",
            "Epoch 00050: saving model to checkpoint01/cp.ckpt\n",
            "134/134 [==============================] - 7s 51ms/step - loss: 0.8578 - accuracy: 0.8250\n",
            "Epoch 51/100\n",
            "133/134 [============================>.] - ETA: 0s - loss: 0.9638 - accuracy: 0.8118\n",
            "Epoch 00051: saving model to checkpoint01/cp.ckpt\n",
            "134/134 [==============================] - 7s 51ms/step - loss: 0.9621 - accuracy: 0.8114\n",
            "Epoch 52/100\n",
            "133/134 [============================>.] - ETA: 0s - loss: 0.7709 - accuracy: 0.8315\n",
            "Epoch 00052: saving model to checkpoint01/cp.ckpt\n",
            "134/134 [==============================] - 7s 51ms/step - loss: 0.7700 - accuracy: 0.8318\n",
            "Epoch 53/100\n",
            "133/134 [============================>.] - ETA: 0s - loss: 0.7429 - accuracy: 0.8325\n",
            "Epoch 00053: saving model to checkpoint01/cp.ckpt\n",
            "134/134 [==============================] - 7s 51ms/step - loss: 0.7426 - accuracy: 0.8327\n",
            "Epoch 54/100\n",
            "133/134 [============================>.] - ETA: 0s - loss: 0.7317 - accuracy: 0.8322\n",
            "Epoch 00054: saving model to checkpoint01/cp.ckpt\n",
            "134/134 [==============================] - 7s 50ms/step - loss: 0.7344 - accuracy: 0.8320\n",
            "Epoch 55/100\n",
            "134/134 [==============================] - ETA: 0s - loss: 0.6400 - accuracy: 0.8332\n",
            "Epoch 00055: saving model to checkpoint01/cp.ckpt\n",
            "134/134 [==============================] - 7s 51ms/step - loss: 0.6400 - accuracy: 0.8332\n",
            "Epoch 56/100\n",
            "133/134 [============================>.] - ETA: 0s - loss: 0.5974 - accuracy: 0.8428\n",
            "Epoch 00056: saving model to checkpoint01/cp.ckpt\n",
            "134/134 [==============================] - 7s 51ms/step - loss: 0.5971 - accuracy: 0.8432\n",
            "Epoch 57/100\n",
            "133/134 [============================>.] - ETA: 0s - loss: 0.6589 - accuracy: 0.8395\n",
            "Epoch 00057: saving model to checkpoint01/cp.ckpt\n",
            "134/134 [==============================] - 7s 51ms/step - loss: 0.6595 - accuracy: 0.8397\n",
            "Epoch 58/100\n",
            "133/134 [============================>.] - ETA: 0s - loss: 0.6926 - accuracy: 0.8341\n",
            "Epoch 00058: saving model to checkpoint01/cp.ckpt\n",
            "134/134 [==============================] - 7s 51ms/step - loss: 0.6926 - accuracy: 0.8346\n",
            "Epoch 59/100\n",
            "133/134 [============================>.] - ETA: 0s - loss: 0.7094 - accuracy: 0.8461\n",
            "Epoch 00059: saving model to checkpoint01/cp.ckpt\n",
            "134/134 [==============================] - 7s 51ms/step - loss: 0.7093 - accuracy: 0.8458\n",
            "Epoch 60/100\n",
            "134/134 [==============================] - ETA: 0s - loss: 0.6904 - accuracy: 0.8463\n",
            "Epoch 00060: saving model to checkpoint01/cp.ckpt\n",
            "134/134 [==============================] - 7s 51ms/step - loss: 0.6904 - accuracy: 0.8463\n",
            "Epoch 61/100\n",
            "134/134 [==============================] - ETA: 0s - loss: 0.6899 - accuracy: 0.8505\n",
            "Epoch 00061: saving model to checkpoint01/cp.ckpt\n",
            "134/134 [==============================] - 7s 51ms/step - loss: 0.6899 - accuracy: 0.8505\n",
            "Epoch 62/100\n",
            "133/134 [============================>.] - ETA: 0s - loss: 0.6206 - accuracy: 0.8494\n",
            "Epoch 00062: saving model to checkpoint01/cp.ckpt\n",
            "134/134 [==============================] - 7s 52ms/step - loss: 0.6202 - accuracy: 0.8488\n",
            "Epoch 63/100\n",
            "133/134 [============================>.] - ETA: 0s - loss: 0.5517 - accuracy: 0.8400\n",
            "Epoch 00063: saving model to checkpoint01/cp.ckpt\n",
            "134/134 [==============================] - 7s 52ms/step - loss: 0.5508 - accuracy: 0.8400\n",
            "Epoch 64/100\n",
            "133/134 [============================>.] - ETA: 0s - loss: 0.6143 - accuracy: 0.8536\n",
            "Epoch 00064: saving model to checkpoint01/cp.ckpt\n",
            "134/134 [==============================] - 7s 52ms/step - loss: 0.6145 - accuracy: 0.8535\n",
            "Epoch 65/100\n",
            "133/134 [============================>.] - ETA: 0s - loss: 0.5126 - accuracy: 0.8637\n",
            "Epoch 00065: saving model to checkpoint01/cp.ckpt\n",
            "134/134 [==============================] - 7s 52ms/step - loss: 0.5124 - accuracy: 0.8638\n",
            "Epoch 66/100\n",
            "133/134 [============================>.] - ETA: 0s - loss: 0.4921 - accuracy: 0.8644\n",
            "Epoch 00066: saving model to checkpoint01/cp.ckpt\n",
            "134/134 [==============================] - 7s 52ms/step - loss: 0.4920 - accuracy: 0.8643\n",
            "Epoch 67/100\n",
            "133/134 [============================>.] - ETA: 0s - loss: 0.5227 - accuracy: 0.8562\n",
            "Epoch 00067: saving model to checkpoint01/cp.ckpt\n",
            "134/134 [==============================] - 7s 51ms/step - loss: 0.5221 - accuracy: 0.8563\n",
            "Epoch 68/100\n",
            "133/134 [============================>.] - ETA: 0s - loss: 0.5900 - accuracy: 0.8557\n",
            "Epoch 00068: saving model to checkpoint01/cp.ckpt\n",
            "134/134 [==============================] - 7s 51ms/step - loss: 0.5933 - accuracy: 0.8556\n",
            "Epoch 69/100\n",
            "134/134 [==============================] - ETA: 0s - loss: 0.5400 - accuracy: 0.8685\n",
            "Epoch 00069: saving model to checkpoint01/cp.ckpt\n",
            "134/134 [==============================] - 7s 52ms/step - loss: 0.5400 - accuracy: 0.8685\n",
            "Epoch 70/100\n",
            "133/134 [============================>.] - ETA: 0s - loss: 0.4737 - accuracy: 0.8611\n",
            "Epoch 00070: saving model to checkpoint01/cp.ckpt\n",
            "134/134 [==============================] - 7s 52ms/step - loss: 0.4735 - accuracy: 0.8617\n",
            "Epoch 71/100\n",
            "134/134 [==============================] - ETA: 0s - loss: 0.4422 - accuracy: 0.8780\n",
            "Epoch 00071: saving model to checkpoint01/cp.ckpt\n",
            "134/134 [==============================] - 7s 52ms/step - loss: 0.4422 - accuracy: 0.8780\n",
            "Epoch 72/100\n",
            "133/134 [============================>.] - ETA: 0s - loss: 0.4503 - accuracy: 0.8748\n",
            "Epoch 00072: saving model to checkpoint01/cp.ckpt\n",
            "134/134 [==============================] - 7s 51ms/step - loss: 0.4506 - accuracy: 0.8745\n",
            "Epoch 73/100\n",
            "133/134 [============================>.] - ETA: 0s - loss: 0.4473 - accuracy: 0.8677\n",
            "Epoch 00073: saving model to checkpoint01/cp.ckpt\n",
            "134/134 [==============================] - 7s 51ms/step - loss: 0.4472 - accuracy: 0.8678\n",
            "Epoch 74/100\n",
            "133/134 [============================>.] - ETA: 0s - loss: 0.5382 - accuracy: 0.8691\n",
            "Epoch 00074: saving model to checkpoint01/cp.ckpt\n",
            "134/134 [==============================] - 7s 52ms/step - loss: 0.5399 - accuracy: 0.8687\n",
            "Epoch 75/100\n",
            "133/134 [============================>.] - ETA: 0s - loss: 1.9236 - accuracy: 0.7686\n",
            "Epoch 00075: saving model to checkpoint01/cp.ckpt\n",
            "134/134 [==============================] - 7s 52ms/step - loss: 1.9222 - accuracy: 0.7692\n",
            "Epoch 76/100\n",
            "133/134 [============================>.] - ETA: 0s - loss: 1.2160 - accuracy: 0.8055\n",
            "Epoch 00076: saving model to checkpoint01/cp.ckpt\n",
            "134/134 [==============================] - 7s 51ms/step - loss: 1.2177 - accuracy: 0.8058\n",
            "Epoch 77/100\n",
            "133/134 [============================>.] - ETA: 0s - loss: 0.7560 - accuracy: 0.8266\n",
            "Epoch 00077: saving model to checkpoint01/cp.ckpt\n",
            "134/134 [==============================] - 7s 51ms/step - loss: 0.7557 - accuracy: 0.8266\n",
            "Epoch 78/100\n",
            "133/134 [============================>.] - ETA: 0s - loss: 0.6673 - accuracy: 0.8470\n",
            "Epoch 00078: saving model to checkpoint01/cp.ckpt\n",
            "134/134 [==============================] - 7s 52ms/step - loss: 0.6677 - accuracy: 0.8465\n",
            "Epoch 79/100\n",
            "133/134 [============================>.] - ETA: 0s - loss: 0.6341 - accuracy: 0.8583\n",
            "Epoch 00079: saving model to checkpoint01/cp.ckpt\n",
            "134/134 [==============================] - 7s 52ms/step - loss: 0.6357 - accuracy: 0.8582\n",
            "Epoch 80/100\n",
            "133/134 [============================>.] - ETA: 0s - loss: 0.5295 - accuracy: 0.8628\n",
            "Epoch 00080: saving model to checkpoint01/cp.ckpt\n",
            "134/134 [==============================] - 7s 52ms/step - loss: 0.5306 - accuracy: 0.8633\n",
            "Epoch 81/100\n",
            "134/134 [==============================] - ETA: 0s - loss: 0.5260 - accuracy: 0.8586\n",
            "Epoch 00081: saving model to checkpoint01/cp.ckpt\n",
            "134/134 [==============================] - 7s 52ms/step - loss: 0.5260 - accuracy: 0.8586\n",
            "Epoch 82/100\n",
            "134/134 [==============================] - ETA: 0s - loss: 0.5062 - accuracy: 0.8671\n",
            "Epoch 00082: saving model to checkpoint01/cp.ckpt\n",
            "134/134 [==============================] - 7s 53ms/step - loss: 0.5062 - accuracy: 0.8671\n",
            "Epoch 83/100\n",
            "133/134 [============================>.] - ETA: 0s - loss: 0.5882 - accuracy: 0.8517\n",
            "Epoch 00083: saving model to checkpoint01/cp.ckpt\n",
            "134/134 [==============================] - 7s 52ms/step - loss: 0.5889 - accuracy: 0.8521\n",
            "Epoch 84/100\n",
            "133/134 [============================>.] - ETA: 0s - loss: 0.5513 - accuracy: 0.8710\n",
            "Epoch 00084: saving model to checkpoint01/cp.ckpt\n",
            "134/134 [==============================] - 7s 52ms/step - loss: 0.5508 - accuracy: 0.8708\n",
            "Epoch 85/100\n",
            "133/134 [============================>.] - ETA: 0s - loss: 0.5119 - accuracy: 0.8698\n",
            "Epoch 00085: saving model to checkpoint01/cp.ckpt\n",
            "134/134 [==============================] - 7s 52ms/step - loss: 0.5120 - accuracy: 0.8706\n",
            "Epoch 86/100\n",
            "133/134 [============================>.] - ETA: 0s - loss: 0.4510 - accuracy: 0.8818\n",
            "Epoch 00086: saving model to checkpoint01/cp.ckpt\n",
            "134/134 [==============================] - 7s 53ms/step - loss: 0.4510 - accuracy: 0.8811\n",
            "Epoch 87/100\n",
            "133/134 [============================>.] - ETA: 0s - loss: 0.4570 - accuracy: 0.8872\n",
            "Epoch 00087: saving model to checkpoint01/cp.ckpt\n",
            "134/134 [==============================] - 7s 52ms/step - loss: 0.4569 - accuracy: 0.8869\n",
            "Epoch 88/100\n",
            "133/134 [============================>.] - ETA: 0s - loss: 0.4338 - accuracy: 0.8823\n",
            "Epoch 00088: saving model to checkpoint01/cp.ckpt\n",
            "134/134 [==============================] - 7s 53ms/step - loss: 0.4338 - accuracy: 0.8818\n",
            "Epoch 89/100\n",
            "133/134 [============================>.] - ETA: 0s - loss: 0.4267 - accuracy: 0.8738\n",
            "Epoch 00089: saving model to checkpoint01/cp.ckpt\n",
            "134/134 [==============================] - 7s 52ms/step - loss: 0.4264 - accuracy: 0.8738\n",
            "Epoch 90/100\n",
            "133/134 [============================>.] - ETA: 0s - loss: 0.4476 - accuracy: 0.8929\n",
            "Epoch 00090: saving model to checkpoint01/cp.ckpt\n",
            "134/134 [==============================] - 7s 52ms/step - loss: 0.4471 - accuracy: 0.8932\n",
            "Epoch 91/100\n",
            "133/134 [============================>.] - ETA: 0s - loss: 0.4314 - accuracy: 0.8783\n",
            "Epoch 00091: saving model to checkpoint01/cp.ckpt\n",
            "134/134 [==============================] - 7s 52ms/step - loss: 0.4313 - accuracy: 0.8783\n",
            "Epoch 92/100\n",
            "133/134 [============================>.] - ETA: 0s - loss: 0.4218 - accuracy: 0.8867\n",
            "Epoch 00092: saving model to checkpoint01/cp.ckpt\n",
            "134/134 [==============================] - 7s 53ms/step - loss: 0.4223 - accuracy: 0.8869\n",
            "Epoch 93/100\n",
            "134/134 [==============================] - ETA: 0s - loss: 0.4248 - accuracy: 0.8857\n",
            "Epoch 00093: saving model to checkpoint01/cp.ckpt\n",
            "134/134 [==============================] - 7s 52ms/step - loss: 0.4248 - accuracy: 0.8857\n",
            "Epoch 94/100\n",
            "133/134 [============================>.] - ETA: 0s - loss: 0.4153 - accuracy: 0.8842\n",
            "Epoch 00094: saving model to checkpoint01/cp.ckpt\n",
            "134/134 [==============================] - 7s 53ms/step - loss: 0.4148 - accuracy: 0.8841\n",
            "Epoch 95/100\n",
            "133/134 [============================>.] - ETA: 0s - loss: 0.4060 - accuracy: 0.8830\n",
            "Epoch 00095: saving model to checkpoint01/cp.ckpt\n",
            "134/134 [==============================] - 7s 53ms/step - loss: 0.4069 - accuracy: 0.8829\n",
            "Epoch 96/100\n",
            "133/134 [============================>.] - ETA: 0s - loss: 0.4317 - accuracy: 0.8898\n",
            "Epoch 00096: saving model to checkpoint01/cp.ckpt\n",
            "134/134 [==============================] - 7s 53ms/step - loss: 0.4323 - accuracy: 0.8902\n",
            "Epoch 97/100\n",
            "133/134 [============================>.] - ETA: 0s - loss: 0.4339 - accuracy: 0.8853\n",
            "Epoch 00097: saving model to checkpoint01/cp.ckpt\n",
            "134/134 [==============================] - 7s 53ms/step - loss: 0.4340 - accuracy: 0.8848\n",
            "Epoch 98/100\n",
            "133/134 [============================>.] - ETA: 0s - loss: 0.4791 - accuracy: 0.8849\n",
            "Epoch 00098: saving model to checkpoint01/cp.ckpt\n",
            "134/134 [==============================] - 7s 53ms/step - loss: 0.4797 - accuracy: 0.8853\n",
            "Epoch 99/100\n",
            "133/134 [============================>.] - ETA: 0s - loss: 2.8772 - accuracy: 0.7150\n",
            "Epoch 00099: saving model to checkpoint01/cp.ckpt\n",
            "134/134 [==============================] - 7s 53ms/step - loss: 2.8874 - accuracy: 0.7157\n",
            "Epoch 100/100\n",
            "134/134 [==============================] - ETA: 0s - loss: 1.8341 - accuracy: 0.7460\n",
            "Epoch 00100: saving model to checkpoint01/cp.ckpt\n",
            "134/134 [==============================] - 7s 53ms/step - loss: 1.8341 - accuracy: 0.7460\n"
          ]
        }
      ]
    },
    {
      "cell_type": "code",
      "source": [
        "# Shows predicted keypoints on image\n",
        "def show_predicted_image(predictions, index):\n",
        "    example = predictions[index, :]\n",
        "    x_values = example[::2]\n",
        "    y_values = example[1::2]\n",
        "    example_image = images[index].reshape(96, 96)\n",
        "    plt.imshow(example_image, cmap='gray')\n",
        "    plt.scatter(x_values, y_values)\n",
        "    plt.show()"
      ],
      "metadata": {
        "id": "eL5Za6-hopnI"
      },
      "execution_count": null,
      "outputs": []
    },
    {
      "cell_type": "code",
      "source": [
        "test_dataframe = get_test_df()\n",
        "images = get_images(test_dataframe).reshape(1783, 96, 96, 1)"
      ],
      "metadata": {
        "id": "m89cMO8jo2l6"
      },
      "execution_count": null,
      "outputs": []
    },
    {
      "cell_type": "code",
      "source": [
        "predictions = model.predict(images)\n",
        "show_predicted_image(predictions, 333)"
      ],
      "metadata": {
        "colab": {
          "base_uri": "https://localhost:8080/",
          "height": 268
        },
        "id": "gOGTshEapAEu",
        "outputId": "6dc57300-9e9b-4a87-b19f-2cc7ff9da52c"
      },
      "execution_count": null,
      "outputs": [
        {
          "output_type": "display_data",
          "data": {
            "image/png": "[encoded data removed]",
            "text/plain": [
              "<Figure size 432x288 with 1 Axes>"
            ]
          },
          "metadata": {
            "needs_background": "light"
          }
        }
      ]
    }
  ]
}